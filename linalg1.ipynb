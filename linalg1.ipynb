{
 "cells": [
  {
   "cell_type": "markdown",
   "metadata": {},
   "source": [
    "Задание 1\n",
    "не совсем понятно как правильно (𝑥,𝑦)=|𝑥|⋅|𝑦|⋅𝑐𝑜𝑠𝛼 или (𝑥,𝑦)=𝑎1𝑏1+𝑎2𝑏2+...+𝑎𝑛𝑏𝑛?"
   ]
  },
  {
   "cell_type": "markdown",
   "metadata": {},
   "source": [
    "а)  𝑥=(0,−3,6), 𝑦=(−4,7,9)\n",
    "(x, y) = 0*(-4)+(-3)*7+6*9 = 33"
   ]
  },
  {
   "cell_type": "code",
   "execution_count": 1,
   "metadata": {},
   "outputs": [
    {
     "name": "stdout",
     "output_type": "stream",
     "text": [
      "33\n"
     ]
    }
   ],
   "source": [
    "import numpy as np\n",
    "a = np.array([0, -3, 6])\n",
    "b = np.array([-4, 7,9])\n",
    "print(np.dot(a, b))"
   ]
  },
  {
   "cell_type": "markdown",
   "metadata": {},
   "source": [
    "б)  𝑥=(7,−4,0,1), 𝑦=(−3,1,11,2)\n",
    "(x, y) = 7*(-3)+(-4)*1+0*11+1*2 = -23"
   ]
  },
  {
   "cell_type": "code",
   "execution_count": 2,
   "metadata": {},
   "outputs": [
    {
     "name": "stdout",
     "output_type": "stream",
     "text": [
      "-23\n"
     ]
    }
   ],
   "source": [
    "import numpy as np\n",
    "a = np.array([7, -4, 0, 1])\n",
    "b = np.array([-3, 1,11,2])\n",
    "print(np.dot(a, b))"
   ]
  },
  {
   "cell_type": "markdown",
   "metadata": {},
   "source": [
    "Задание 2"
   ]
  },
  {
   "cell_type": "markdown",
   "metadata": {},
   "source": [
    "Найти нормы векторов  a=(4,2,4)  и  b=(12,3,4)  и угол между ними\n",
    "‖a‖1=|4|+|2|+|4|=10 \n",
    "‖b‖1=|12|+|3|+|4|=19"
   ]
  },
  {
   "cell_type": "code",
   "execution_count": 4,
   "metadata": {},
   "outputs": [
    {
     "name": "stdout",
     "output_type": "stream",
     "text": [
      "10.0\n",
      "19.0\n"
     ]
    }
   ],
   "source": [
    "from numpy.linalg import norm\n",
    "a = np.array([4, 2, 4])\n",
    "b = np.array([12, 3, 4])\n",
    "print(norm(a, ord=1))\n",
    "print(norm(b, ord=1))"
   ]
  },
  {
   "cell_type": "markdown",
   "metadata": {},
   "source": [
    "‖a‖2=sqrt(4**2+2**2+4**2)=6\n",
    "‖b‖2=sqrt(12**2+3**2+4**2)=13"
   ]
  },
  {
   "cell_type": "code",
   "execution_count": 5,
   "metadata": {},
   "outputs": [
    {
     "name": "stdout",
     "output_type": "stream",
     "text": [
      "6.0\n",
      "13.0\n"
     ]
    }
   ],
   "source": [
    "print(norm(a, ord=2))\n",
    "print(norm(b, ord=2))"
   ]
  },
  {
   "cell_type": "markdown",
   "metadata": {},
   "source": [
    "𝑐𝑜𝑠𝜑=(𝑥,𝑦)/‖𝑥‖/‖𝑦‖ = (4*12+2*3+4*4) / 6 / 13 = 0,897"
   ]
  },
  {
   "cell_type": "code",
   "execution_count": 6,
   "metadata": {},
   "outputs": [
    {
     "name": "stdout",
     "output_type": "stream",
     "text": [
      "0.8974358974358974\n"
     ]
    }
   ],
   "source": [
    "cos = np.dot(a, b) / norm(a) / norm(b)\n",
    "print(cos)"
   ]
  },
  {
   "cell_type": "markdown",
   "metadata": {},
   "source": [
    "Задание4\n",
    "(𝑒𝑖,𝑒𝑗)=0  ∀ 𝑖≠𝑗 и  ∀ 𝑖∈[1,𝑛]"
   ]
  },
  {
   "cell_type": "markdown",
   "metadata": {},
   "source": [
    "а)  (1,0,0),(0,0,1)\n",
    "1*0+0*0+0*1 = 0\n",
    "1*1+0*0+0*0 = 1\n",
    "ортонормированный\n",
    "б)  (1/2‾√,−1/2‾√,0),(1/2‾√,1/2‾√,0),(0,0,1)\n",
    "ортонормированный\n",
    "в)  (1/2,−1/2,0),(0,1/2,1/2),(0,0,1)\n",
    "(𝑒𝑖,𝑒𝑖)≠1\n",
    "не ортонормированный\n",
    "г)  (1,0,0),(0,1,0),(0,0,1)\n",
    "ортонормированный"
   ]
  }
 ],
 "metadata": {
  "kernelspec": {
   "display_name": "Python 3",
   "language": "python",
   "name": "python3"
  },
  "language_info": {
   "codemirror_mode": {
    "name": "ipython",
    "version": 3
   },
   "file_extension": ".py",
   "mimetype": "text/x-python",
   "name": "python",
   "nbconvert_exporter": "python",
   "pygments_lexer": "ipython3",
   "version": "3.8.5"
  }
 },
 "nbformat": 4,
 "nbformat_minor": 4
}
